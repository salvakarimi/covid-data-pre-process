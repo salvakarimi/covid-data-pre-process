{
  "nbformat": 4,
  "nbformat_minor": 0,
  "metadata": {
    "colab": {
      "name": "Untitled1.ipynb",
      "provenance": [],
      "toc_visible": true
    },
    "kernelspec": {
      "name": "python3",
      "display_name": "Python 3"
    }
  },
  "cells": [
    {
      "cell_type": "code",
      "metadata": {
        "id": "8Ig_DAxhQ9Dj"
      },
      "source": [
        "import numpy as np\n",
        "import pandas as pd\n",
        "import matplotlib.pyplot as plt\n",
        "import scipy\n",
        "from sklearn.linear_model import LinearRegression\n",
        "from sklearn.model_selection import train_test_split\n",
        "import sklearn.metrics as sm"
      ],
      "execution_count": 54,
      "outputs": []
    },
    {
      "cell_type": "markdown",
      "metadata": {
        "id": "MQxVWb-cf7Wa"
      },
      "source": [
        "# 1.1"
      ]
    },
    {
      "cell_type": "code",
      "metadata": {
        "id": "GpGaKzmEf-X8",
        "outputId": "941a7025-adca-4e03-dd03-3c00d5b129bd",
        "colab": {
          "base_uri": "https://localhost:8080/"
        }
      },
      "source": [
        "covid = pd.read_csv('/content/covid.csv')\n",
        "print(covid)"
      ],
      "execution_count": 3,
      "outputs": [
        {
          "output_type": "stream",
          "text": [
            "      id     sex  birth_year  ... infected_by confirmed_date     state\n",
            "0      1  female      1984.0  ...         NaN      1/20/2020  released\n",
            "1      2    male      1964.0  ...         NaN      1/24/2020  released\n",
            "2      3    male      1966.0  ...         NaN      1/26/2020  released\n",
            "3      4    male      1964.0  ...         NaN      1/27/2020  released\n",
            "4      5    male      1987.0  ...         NaN      1/30/2020  released\n",
            "..   ...     ...         ...  ...         ...            ...       ...\n",
            "171  172  female      1997.0  ...         NaN      2/24/2020  isolated\n",
            "172  173    male      1949.0  ...         NaN      2/24/2020  deceased\n",
            "173  174  female      1958.0  ...         NaN      2/24/2020  isolated\n",
            "174  175    male      1997.0  ...         NaN      2/24/2020  isolated\n",
            "175  176  female      1950.0  ...         NaN      2/24/2020  isolated\n",
            "\n",
            "[176 rows x 9 columns]\n"
          ],
          "name": "stdout"
        }
      ]
    },
    {
      "cell_type": "markdown",
      "metadata": {
        "id": "JnuyocSig2sq"
      },
      "source": [
        "# 1.2\n"
      ]
    },
    {
      "cell_type": "code",
      "metadata": {
        "id": "QjSfGqojg5x8",
        "outputId": "5616a7e0-17a5-4722-ba34-ac30c5f591a1",
        "colab": {
          "base_uri": "https://localhost:8080/"
        }
      },
      "source": [
        "\n",
        "print(\"number of data: \",covid.size)\n",
        "print(\"coloumns: \")\n",
        "for col in covid: \n",
        "    print(col) "
      ],
      "execution_count": 9,
      "outputs": [
        {
          "output_type": "stream",
          "text": [
            "number of data:  1584\n",
            "coloumns: \n",
            "id\n",
            "sex\n",
            "birth_year\n",
            "country\n",
            "region\n",
            "infection_reason\n",
            "infected_by\n",
            "confirmed_date\n",
            "state\n"
          ],
          "name": "stdout"
        }
      ]
    },
    {
      "cell_type": "markdown",
      "metadata": {
        "id": "7TpQ3Hzuj_aD"
      },
      "source": [
        " \n",
        " ‍\n",
        "  داده ها مربوط به اطلاعات  افراد مبتلا به کوید می باشند\n",
        "  ۱۷۶ سطر معادل ۱۷۶ نفر که راجع به آن ها اطلاعات جنسیت٫ سال تولد٬ کشور٬ دلیل ابتلا٬ عامل ابتلا٬ تارخ تأیید  ابتلا و وضعیت فعلی را داریم.\n",
        "  "
      ]
    },
    {
      "cell_type": "markdown",
      "metadata": {
        "id": "OsFFehj_l5Tu"
      },
      "source": [
        "# 1.3\n"
      ]
    },
    {
      "cell_type": "code",
      "metadata": {
        "id": "Zz_tH3usmLwr",
        "outputId": "d965e7ce-f2b0-4872-d9ac-598b25d39b17",
        "colab": {
          "base_uri": "https://localhost:8080/"
        }
      },
      "source": [
        "print('mean:', np.mean(covid['birth_year']))\n",
        "print('max:', max(covid['birth_year']))\n",
        "print('std:', np.std(covid['birth_year']))"
      ],
      "execution_count": 10,
      "outputs": [
        {
          "output_type": "stream",
          "text": [
            "mean: 1973.3855421686746\n",
            "max: 2009.0\n",
            "std: 16.981443682011555\n"
          ],
          "name": "stdout"
        }
      ]
    },
    {
      "cell_type": "markdown",
      "metadata": {
        "id": "lGoQPvzym4FH"
      },
      "source": [
        "# 1.4\n",
        "برای از بین بردن null value از متد dropna() استفاده کردم.\n",
        "\n",
        "\n",
        "\n",
        "\n"
      ]
    },
    {
      "cell_type": "code",
      "metadata": {
        "id": "NZPg4Zn8nNTx",
        "outputId": "ba288ffb-3b54-48fc-f382-6228b4c8fb61",
        "colab": {
          "base_uri": "https://localhost:8080/"
        }
      },
      "source": [
        "if covid.isna().values.any():\n",
        "  print(\"includes null values\")\n",
        "else:\n",
        "  print(\"doesn't incluse null values\")\n",
        "no_na_covid = covid.dropna()\n",
        "print(\"after removing null values: \")\n",
        "print(no_na_covid)"
      ],
      "execution_count": 12,
      "outputs": [
        {
          "output_type": "stream",
          "text": [
            "includes null values\n",
            "after removing null values: \n",
            "      id     sex  birth_year  ... infected_by confirmed_date     state\n",
            "5      6    male      1964.0  ...         3.0      1/30/2020  released\n",
            "8      9  female      1992.0  ...         5.0      1/31/2020  released\n",
            "9     10  female      1966.0  ...         6.0      1/31/2020  released\n",
            "10    11    male      1995.0  ...         6.0      1/31/2020  released\n",
            "13    14  female      1980.0  ...        12.0       2/2/2020  released\n",
            "14    15    male      1977.0  ...         4.0       2/2/2020  released\n",
            "17    18  female      1999.0  ...        16.0       2/5/2020  released\n",
            "19    20  female      1978.0  ...        15.0       2/5/2020  released\n",
            "20    21  female      1960.0  ...         6.0       2/5/2020  released\n",
            "21    22    male      1973.0  ...        16.0       2/6/2020  released\n",
            "24    25  female      1946.0  ...        27.0       2/9/2020  isolated\n",
            "25    26    male      1968.0  ...        27.0       2/9/2020  isolated\n",
            "27    28  female      1989.0  ...         3.0      2/10/2020  released\n",
            "28    29    male      1938.0  ...        83.0      2/16/2020  isolated\n",
            "29    30  female      1952.0  ...        29.0      2/16/2020  isolated\n",
            "31    32  female      2009.0  ...        20.0      2/18/2020  released\n",
            "32    33  female      1980.0  ...        31.0      2/18/2020  isolated\n",
            "46    47  female      1957.0  ...        31.0      2/19/2020  isolated\n",
            "47    48  female      1948.0  ...        31.0      2/19/2020  isolated\n",
            "48    49    male      1962.0  ...        31.0      2/19/2020  isolated\n",
            "49    50    male      1944.0  ...        31.0      2/19/2020  released\n",
            "50    51  female      1959.0  ...        31.0      2/19/2020  released\n",
            "55    56    male      1945.0  ...        83.0      2/19/2020  isolated\n",
            "71    72    male      1944.0  ...         6.0      2/20/2020  released\n",
            "85    86  female      1941.0  ...       136.0      2/21/2020  isolated\n",
            "88    89  female      1944.0  ...        40.0      2/21/2020  isolated\n",
            "90    91    male      1936.0  ...        56.0      2/21/2020  isolated\n",
            "92    93  female      1988.0  ...        31.0      2/21/2020  isolated\n",
            "94    95    male      1987.0  ...        31.0      2/21/2020  isolated\n",
            "95    96    male      1989.0  ...       126.0      2/21/2020  isolated\n",
            "103  104    male      1984.0  ...       113.0      2/22/2020  isolated\n",
            "121  122    male      1984.0  ...       230.0      2/22/2020  isolated\n",
            "122  123  female      1985.0  ...       230.0      2/22/2020  isolated\n",
            "128  129    male      1956.0  ...        30.0      2/22/2020  isolated\n",
            "130  131    male      1958.0  ...       161.0      2/22/2020  isolated\n",
            "150  151  female      1959.0  ...       246.0      2/23/2020  isolated\n",
            "154  155  female      1968.0  ...       347.0      2/23/2020  isolated\n",
            "155  156    male      1985.0  ...       126.0      2/23/2020  isolated\n",
            "160  161    male      1980.0  ...       246.0      2/23/2020  isolated\n",
            "162  163    male      1957.0  ...       372.0      2/23/2020  isolated\n",
            "164  165  female      1985.0  ...       126.0      2/23/2020  released\n",
            "170  171    male      1985.0  ...       164.0      2/24/2020  isolated\n",
            "\n",
            "[42 rows x 9 columns]\n"
          ],
          "name": "stdout"
        }
      ]
    },
    {
      "cell_type": "code",
      "metadata": {
        "id": "kmaFBy5rnhRn"
      },
      "source": [
        ""
      ],
      "execution_count": null,
      "outputs": []
    },
    {
      "cell_type": "markdown",
      "metadata": {
        "id": "4K3ZyMnKptzz"
      },
      "source": [
        "# 1.5"
      ]
    },
    {
      "cell_type": "markdown",
      "metadata": {
        "id": "M5PDLxGYp5Tk"
      },
      "source": [
        "histogram of 'infected by'"
      ]
    },
    {
      "cell_type": "code",
      "metadata": {
        "id": "xEcIb_jurAMs",
        "outputId": "9c8e4c1f-fd45-42f9-cfa4-6342fbf6303f",
        "colab": {
          "base_uri": "https://localhost:8080/",
          "height": 279
        }
      },
      "source": [
        "plt.hist(no_na_covid['infected_by'])\n",
        "plt.xlabel('infected by')\n",
        "plt.ylabel('count')\n",
        "plt.show()"
      ],
      "execution_count": 14,
      "outputs": [
        {
          "output_type": "display_data",
          "data": {
            "image/png": "[encoded data removed]",
            "text/plain": [
              "<Figure size 432x288 with 1 Axes>"
            ]
          },
          "metadata": {
            "tags": [],
            "needs_background": "light"
          }
        }
      ]
    },
    {
      "cell_type": "markdown",
      "metadata": {
        "id": "7EQR3AlusLmo"
      },
      "source": [
        "scatterplot of 'infected_by' and 'age'"
      ]
    },
    {
      "cell_type": "code",
      "metadata": {
        "id": "Il7nEs4RsnA6",
        "outputId": "8026cef3-c687-484f-eb86-0d688da308f3",
        "colab": {
          "base_uri": "https://localhost:8080/",
          "height": 279
        }
      },
      "source": [
        "plt.scatter(no_na_covid['infected_by'],no_na_covid['birth_year'])\n",
        "plt.xlabel('infected by')\n",
        "plt.ylabel('birth year')\n",
        "plt.show()"
      ],
      "execution_count": 15,
      "outputs": [
        {
          "output_type": "display_data",
          "data": {
            "image/png": "[encoded data removed]",
            "text/plain": [
              "<Figure size 432x288 with 1 Axes>"
            ]
          },
          "metadata": {
            "tags": [],
            "needs_background": "light"
          }
        }
      ]
    },
    {
      "cell_type": "markdown",
      "metadata": {
        "id": "fxzlcOMBs5EY"
      },
      "source": [
        "matrix plot"
      ]
    },
    {
      "cell_type": "code",
      "metadata": {
        "id": "QXkY1hELygLS",
        "outputId": "89222edb-955b-444e-d09d-02c1656f4a44",
        "colab": {
          "base_uri": "https://localhost:8080/",
          "height": 1000
        }
      },
      "source": [
        "mat_df = no_na_covid[['sex','birth_year','infected_by']]\n",
        "mat_df['sex'] = mat_df['sex'].apply(lambda x: int(x=='female'))\n",
        "figure=plt.figure()\n",
        "figure=plt.matshow(mat_df, interpolation = 'nearest')\n",
        "plt.colorbar(figure)\n",
        "plt.show()"
      ],
      "execution_count": 22,
      "outputs": [
        {
          "output_type": "stream",
          "text": [
            "/usr/local/lib/python3.6/dist-packages/ipykernel_launcher.py:2: SettingWithCopyWarning: \n",
            "A value is trying to be set on a copy of a slice from a DataFrame.\n",
            "Try using .loc[row_indexer,col_indexer] = value instead\n",
            "\n",
            "See the caveats in the documentation: https://pandas.pydata.org/pandas-docs/stable/user_guide/indexing.html#returning-a-view-versus-a-copy\n",
            "  \n"
          ],
          "name": "stderr"
        },
        {
          "output_type": "display_data",
          "data": {
            "text/plain": [
              "<Figure size 432x288 with 0 Axes>"
            ]
          },
          "metadata": {
            "tags": []
          }
        },
        {
          "output_type": "display_data",
          "data": {
            "image/png": "[encoded data removed]",
            "text/plain": [
              "<Figure size 288x1152 with 2 Axes>"
            ]
          },
          "metadata": {
            "tags": [],
            "needs_background": "light"
          }
        }
      ]
    },
    {
      "cell_type": "markdown",
      "metadata": {
        "id": "JB5zgp986Gnq"
      },
      "source": [
        "# 1.6\n",
        "با استفاده از z-score ٬ outlier ها را شناسایی می‌کنیم"
      ]
    },
    {
      "cell_type": "markdown",
      "metadata": {
        "id": "fmFaWU9RTztf"
      },
      "source": [
        "if value < mean+treshhold*standard deviation or value>mean+treshhold*standard deviation , value is an outlier adnthat row shoud be removed\n",
        "we assume that treshhold=3"
      ]
    },
    {
      "cell_type": "markdown",
      "metadata": {
        "id": "o-dd74aiSU8L"
      },
      "source": [
        "برای حذف آوت لیرها از این شرط استفاده می‌کنیم\n",
        "filtered_entries = (abs_z_scores < 3).all(axis=1)"
      ]
    },
    {
      "cell_type": "code",
      "metadata": {
        "id": "0aS9OumHCYgZ",
        "outputId": "393f597f-f971-4a9e-bcfd-bc35cf374cb1",
        "colab": {
          "base_uri": "https://localhost:8080/"
        }
      },
      "source": [
        "#tmp=no_na_covid[['birth_year','infected_by']]\n",
        "z_scores = scipy.stats.zscore(no_na_covid[['birth_year','infected_by']])\n",
        "abs_z_scores = np.abs(z_scores)\n",
        "filtered_entries = (abs_z_scores < 3).all(axis=1)\n",
        "outlier=(abs_z_scores >= 3)\n",
        "new_df = no_na_covid[filtered_entries]\n",
        "print(\"outlier:\")\n",
        "print(no_na_covid[outlier])\n",
        "print(\"after removing outliers:\")\n",
        "print(no_na_covid[filtered_entries])\n",
        "\n",
        "\n",
        "\n"
      ],
      "execution_count": 48,
      "outputs": [
        {
          "output_type": "stream",
          "text": [
            "outlier:\n",
            "      id   sex  birth_year  ... infected_by confirmed_date     state\n",
            "162  163  male      1957.0  ...       372.0      2/23/2020  isolated\n",
            "\n",
            "[1 rows x 9 columns]\n",
            "after removing outliers:\n",
            "      id     sex  birth_year  ... infected_by confirmed_date     state\n",
            "5      6    male      1964.0  ...         3.0      1/30/2020  released\n",
            "8      9  female      1992.0  ...         5.0      1/31/2020  released\n",
            "9     10  female      1966.0  ...         6.0      1/31/2020  released\n",
            "10    11    male      1995.0  ...         6.0      1/31/2020  released\n",
            "13    14  female      1980.0  ...        12.0       2/2/2020  released\n",
            "14    15    male      1977.0  ...         4.0       2/2/2020  released\n",
            "17    18  female      1999.0  ...        16.0       2/5/2020  released\n",
            "19    20  female      1978.0  ...        15.0       2/5/2020  released\n",
            "20    21  female      1960.0  ...         6.0       2/5/2020  released\n",
            "21    22    male      1973.0  ...        16.0       2/6/2020  released\n",
            "24    25  female      1946.0  ...        27.0       2/9/2020  isolated\n",
            "25    26    male      1968.0  ...        27.0       2/9/2020  isolated\n",
            "27    28  female      1989.0  ...         3.0      2/10/2020  released\n",
            "28    29    male      1938.0  ...        83.0      2/16/2020  isolated\n",
            "29    30  female      1952.0  ...        29.0      2/16/2020  isolated\n",
            "31    32  female      2009.0  ...        20.0      2/18/2020  released\n",
            "32    33  female      1980.0  ...        31.0      2/18/2020  isolated\n",
            "46    47  female      1957.0  ...        31.0      2/19/2020  isolated\n",
            "47    48  female      1948.0  ...        31.0      2/19/2020  isolated\n",
            "48    49    male      1962.0  ...        31.0      2/19/2020  isolated\n",
            "49    50    male      1944.0  ...        31.0      2/19/2020  released\n",
            "50    51  female      1959.0  ...        31.0      2/19/2020  released\n",
            "55    56    male      1945.0  ...        83.0      2/19/2020  isolated\n",
            "71    72    male      1944.0  ...         6.0      2/20/2020  released\n",
            "85    86  female      1941.0  ...       136.0      2/21/2020  isolated\n",
            "88    89  female      1944.0  ...        40.0      2/21/2020  isolated\n",
            "90    91    male      1936.0  ...        56.0      2/21/2020  isolated\n",
            "92    93  female      1988.0  ...        31.0      2/21/2020  isolated\n",
            "94    95    male      1987.0  ...        31.0      2/21/2020  isolated\n",
            "95    96    male      1989.0  ...       126.0      2/21/2020  isolated\n",
            "103  104    male      1984.0  ...       113.0      2/22/2020  isolated\n",
            "121  122    male      1984.0  ...       230.0      2/22/2020  isolated\n",
            "122  123  female      1985.0  ...       230.0      2/22/2020  isolated\n",
            "128  129    male      1956.0  ...        30.0      2/22/2020  isolated\n",
            "130  131    male      1958.0  ...       161.0      2/22/2020  isolated\n",
            "150  151  female      1959.0  ...       246.0      2/23/2020  isolated\n",
            "154  155  female      1968.0  ...       347.0      2/23/2020  isolated\n",
            "155  156    male      1985.0  ...       126.0      2/23/2020  isolated\n",
            "160  161    male      1980.0  ...       246.0      2/23/2020  isolated\n",
            "164  165  female      1985.0  ...       126.0      2/23/2020  released\n",
            "170  171    male      1985.0  ...       164.0      2/24/2020  isolated\n",
            "\n",
            "[41 rows x 9 columns]\n"
          ],
          "name": "stdout"
        }
      ]
    },
    {
      "cell_type": "markdown",
      "metadata": {
        "id": "WKmGidaYS57I"
      },
      "source": [
        "در این مجموعه آوت لیر داریم زیرا یک داده خرج از بازه میانگین +- ۳*انحراف معیار بوده."
      ]
    },
    {
      "cell_type": "markdown",
      "metadata": {
        "id": "NuvbRviuUXq2"
      },
      "source": [
        "#2\n",
        "R2 and MAPE are good for knowing error/accuracy without comparison \n",
        "if R2 score=1 it means the prediction is accurate adn y_test=predicted_y\n",
        "RMSD is the eRror rate it's good for comparison\n",
        "MAPE < 10% is Excellent, MAPE < 20% is Good) \n"
      ]
    },
    {
      "cell_type": "code",
      "metadata": {
        "id": "xe4s4KMaUqU3",
        "outputId": "9b572cf7-4e88-4f52-e25d-9a559d495a34",
        "colab": {
          "base_uri": "https://localhost:8080/"
        }
      },
      "source": [
        "student = pd.read_csv('/content/student.csv', sep=';')\n",
        "\n",
        "#calculations on integer parts of data frame\n",
        "int_data = student.loc[:, student.dtypes == np.int64]\n",
        "\n",
        "x = int_data.iloc[:, 0:-1]\n",
        "y = int_data.iloc[:, -1]\n",
        "\n",
        "x_train, x_test, y_train, y_test = train_test_split(x, y, test_size=0.2)\n",
        "\n",
        "r = LinearRegression().fit(x_train, y_train)\n",
        "\n",
        "predicted_y = [int(i) for i in predicted_y]\n",
        "\n",
        "y_test = np.array(y_test)\n",
        "predicted_y = r.predict(x_test)\n",
        "#print(y_test)\n",
        "#print(predicted_y)\n",
        "print(\"R2 score =\", round(sm.r2_score(y_test, predicted_y), 2))\n",
        "sum=0\n",
        "sum2=0\n",
        "temp=0\n",
        "for i in range(y_test.size):\n",
        " temp= y_test[i]-predicted_y[i]\n",
        " sum=sum+temp**2\n",
        " if y_test[i] != 0:\n",
        "   sum2=sum2+temp/y_test[i]\n",
        "print(\"RMSD: \",sum/y_test.size)\n",
        "print(\"MAPE: \",sum2/y_test.size)\n",
        "\n"
      ],
      "execution_count": 61,
      "outputs": [
        {
          "output_type": "stream",
          "text": [
            "R2 score = 0.88\n",
            "RMSD:  2.4267858057314817\n",
            "MAPE:  0.0604279373675145\n"
          ],
          "name": "stdout"
        }
      ]
    }
  ]
}